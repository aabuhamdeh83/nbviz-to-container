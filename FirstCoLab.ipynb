{
  "nbformat": 4,
  "nbformat_minor": 0,
  "metadata": {
    "colab": {
      "provenance": [],
      "authorship_tag": "ABX9TyObDExoLlmDwAjRAzeiblw7",
      "include_colab_link": true
    },
    "kernelspec": {
      "name": "python3",
      "display_name": "Python 3"
    },
    "language_info": {
      "name": "python"
    }
  },
  "cells": [
    {
      "cell_type": "markdown",
      "metadata": {
        "id": "view-in-github",
        "colab_type": "text"
      },
      "source": [
        "<a href=\"https://colab.research.google.com/github/aabuhamdeh83/nbviz-to-container/blob/main/FirstCoLab.ipynb\" target=\"_parent\"><img src=\"https://colab.research.google.com/assets/colab-badge.svg\" alt=\"Open In Colab\"/></a>"
      ]
    },
    {
      "cell_type": "code",
      "execution_count": 3,
      "metadata": {
        "colab": {
          "base_uri": "https://localhost:8080/"
        },
        "id": "XdG3PC50RDQ9",
        "outputId": "6a68af4c-c11b-441d-d7b3-7bff271025fe"
      },
      "outputs": [
        {
          "output_type": "stream",
          "name": "stdout",
          "text": [
            "/bin/bash: -c: line 1: syntax error near unexpected token `attachment:d21f0767-44e6-46ce-b035-cc6bb9a72a18.jpg'\n",
            "/bin/bash: -c: line 1: `[Python_logo-1.jpg](attachment:d21f0767-44e6-46ce-b035-cc6bb9a72a18.jpg)'\n"
          ]
        }
      ],
      "source": [
        "![Python_logo-1.jpg](attachment:d21f0767-44e6-46ce-b035-cc6bb9a72a18.jpg)"
      ]
    },
    {
      "cell_type": "code",
      "source": [
        "# prompt: import os\n",
        "\n",
        "import os\n",
        "print(os.getcwd())\n",
        "# To list files in the current directory:\n",
        "!ls -l\n",
        "# To list files in a specific directory\n",
        "# !ls -l /path/to/directory\n",
        "\n",
        "\n"
      ],
      "metadata": {
        "colab": {
          "base_uri": "https://localhost:8080/"
        },
        "id": "MigQn0j7S6Be",
        "outputId": "4942f081-0184-47ab-a3ae-21d9a2455d13"
      },
      "execution_count": 5,
      "outputs": [
        {
          "output_type": "stream",
          "name": "stdout",
          "text": [
            "/content\n",
            "total 8\n",
            "drwxr-xr-x 3 root root 4096 Feb 10 09:57 FirstLecture\n",
            "drwxr-xr-x 1 root root 4096 Feb  6 14:19 sample_data\n"
          ]
        }
      ]
    },
    {
      "cell_type": "code",
      "source": [
        "import os\n",
        "\n",
        "# Get the current working path\n",
        "path = os.getcwd()\n",
        "path"
      ],
      "metadata": {
        "colab": {
          "base_uri": "https://localhost:8080/",
          "height": 36
        },
        "id": "KfsmVFrwSKox",
        "outputId": "fde92ac3-48ed-44dd-c5f2-2914cb97f87c"
      },
      "execution_count": 4,
      "outputs": [
        {
          "output_type": "execute_result",
          "data": {
            "text/plain": [
              "'/content'"
            ],
            "application/vnd.google.colaboratory.intrinsic+json": {
              "type": "string"
            }
          },
          "metadata": {},
          "execution_count": 4
        }
      ]
    },
    {
      "cell_type": "code",
      "source": [
        "from pathlib import Path\n",
        "\n",
        "path = Path(os.getcwd())\n",
        "\n",
        "# Return a list containing the names of the entries in the directory given by path.\n",
        "# The list is in arbitrary order.\n",
        "os.listdir(path)\n"
      ],
      "metadata": {
        "colab": {
          "base_uri": "https://localhost:8080/"
        },
        "id": "2fz06tDhSMFj",
        "outputId": "3b1f0306-de12-42ac-8ae1-8a1845ae8ff5"
      },
      "execution_count": 8,
      "outputs": [
        {
          "output_type": "execute_result",
          "data": {
            "text/plain": [
              "['.config', '.ipynb_checkpoints', 'FirstLecture', 'sample_data']"
            ]
          },
          "metadata": {},
          "execution_count": 8
        }
      ]
    },
    {
      "cell_type": "code",
      "source": [],
      "metadata": {
        "id": "LST64mvlTOR7"
      },
      "execution_count": null,
      "outputs": []
    }
  ]
}